{
 "cells": [
  {
   "cell_type": "markdown",
   "metadata": {},
   "source": [
    "# Divide and conquer\n",
    "### method of computing the convex hull of a finite set of points in 2-dimensional space\n"
   ]
  },
  {
   "cell_type": "code",
   "execution_count": null,
   "metadata": {},
   "outputs": [],
   "source": [
    "from ipynb.fs.full.drawing_tool import *\n",
    "%matplotlib notebook\n",
    "Tolerance = 10e-12"
   ]
  },
  {
   "cell_type": "markdown",
   "metadata": {},
   "source": [
    "## 1. Auxiliary functions:"
   ]
  },
  {
   "cell_type": "code",
   "execution_count": null,
   "metadata": {},
   "outputs": [],
   "source": [
    "def orient(a, b, c):\n",
    "    det_ = a[0] * b[1] + b[0] * c[1] + c[0] * a[1] - c[0] * b[1] - b[0] * a[1] - a[0] * c[1]\n",
    "    if det_ > Tolerance:\n",
    "        return 1\n",
    "    elif det_ < -Tolerance:\n",
    "        return -1\n",
    "    else:\n",
    "        return 0"
   ]
  },
  {
   "cell_type": "code",
   "execution_count": null,
   "metadata": {},
   "outputs": [],
   "source": [
    "def find_max_x(tab):\n",
    "    max_x = -float('inf')\n",
    "    max_ind = -1\n",
    "    for x in range(len(tab)):\n",
    "        if max_x < tab[x][0]:\n",
    "            max_x = tab[x][0]\n",
    "            max_ind = x\n",
    "    return max_ind"
   ]
  },
  {
   "cell_type": "code",
   "execution_count": null,
   "metadata": {},
   "outputs": [],
   "source": [
    "def find_min_x(tab):\n",
    "    min_x = float('inf')\n",
    "    min_ind = -1\n",
    "    for x in range(len(tab)):\n",
    "        if min_x > tab[x][0]:\n",
    "            min_x = tab[x][0]\n",
    "            min_ind = x\n",
    "    return min_ind"
   ]
  },
  {
   "cell_type": "code",
   "execution_count": null,
   "metadata": {},
   "outputs": [],
   "source": [
    "def points_connect_down(a, b, hull1, hull2):\n",
    "    n1 = len(hull1)\n",
    "    n2 = len(hull2)\n",
    "    flag1, flag2 = False, False\n",
    "    while not flag1 or not flag2:\n",
    "        flag1, flag2 = True, True\n",
    "        if n1 != 1:\n",
    "            while orient(hull1[(a - 1) % n1], hull1[a % n1], hull2[b % n2]) <= 0:\n",
    "                a -= 1\n",
    "                flag1 = False\n",
    "        if n2 != 1:\n",
    "            while orient(hull1[a % n1], hull2[b % n2], hull2[(b + 1) % n2]) <= 0:\n",
    "                b += 1\n",
    "                flag2 = False\n",
    "    return a % n1, b % n2"
   ]
  },
  {
   "cell_type": "code",
   "execution_count": null,
   "metadata": {},
   "outputs": [],
   "source": [
    "def points_connect_up(a, b, hull1, hull2):\n",
    "    n1 = len(hull1)\n",
    "    n2 = len(hull2)\n",
    "    flag1, flag2 = False, False\n",
    "    while not flag1 or not flag2:\n",
    "        flag1, flag2 = True, True\n",
    "        if n1 != 1:\n",
    "            while orient(hull1[a % n1], hull1[(a + 1) % n1], hull2[b % n2]) <= 0:\n",
    "                a += 1\n",
    "                flag1 = False\n",
    "        if n2 != 1:\n",
    "            while orient(hull1[a % n1], hull2[(b - 1) % n2], hull2[b % n2]) <= 0:\n",
    "                b -= 1\n",
    "                flag2 = False\n",
    "    return a % n1, b % n2"
   ]
  },
  {
   "cell_type": "code",
   "execution_count": null,
   "metadata": {},
   "outputs": [],
   "source": [
    "def trivial(points, first, last):\n",
    "# determining the convex hull for <= 3 points\n",
    "    if last - first < 0:\n",
    "        return []\n",
    "    if last - first == 0:\n",
    "        return [points[first]]\n",
    "    if last - first == 1:\n",
    "        if points[first] == points[last]:\n",
    "            return [points[first]]\n",
    "        return [points[first], points[last]]\n",
    "    if last - first == 2:\n",
    "        if (points[first][0] == points[first + 1][0] and orient(points[first], points[first + 1], points[first + 2]) != 0) or orient(points[first], points[first + 1], points[first + 2]) < 0:\n",
    "            return [points[first], points[first + 2], points[first + 1]]\n",
    "        elif orient(points[first], points[first + 1], points[first + 2]) > 0:\n",
    "            return [points[first], points[first + 1], points[first + 2]]\n",
    "        else:\n",
    "            return [points[first], points[first + 2]]"
   ]
  },
  {
   "cell_type": "code",
   "execution_count": null,
   "metadata": {},
   "outputs": [],
   "source": [
    "def add_scene(lines2):\n",
    "    global scenes, hulls\n",
    "    lines = []\n",
    "    points_scene = []\n",
    "    for hull in hulls:\n",
    "        n = len(hull)\n",
    "        for i in range(n):\n",
    "            lines.append([hull[i], hull[(i + 1) % n]])\n",
    "            points_scene.append(hull[i])\n",
    "    scenes.append(Scene([PointsCollection(data, color='skyblue'),\n",
    "                 PointsCollection(points_scene, color='deeppink')],\n",
    "            [LinesCollection(lines, color='deeppink'),\n",
    "            LinesCollection(lines2, color='pink')]))"
   ]
  },
  {
   "cell_type": "markdown",
   "metadata": {},
   "source": [
    "## 2. Main algorithm"
   ]
  },
  {
   "cell_type": "code",
   "execution_count": null,
   "metadata": {},
   "outputs": [],
   "source": [
    "def recur(points, first, last):\n",
    "    global hulls\n",
    "    if last - first < 3:\n",
    "        hull = trivial(points, first, last)\n",
    "        hulls.append(hull)\n",
    "        lines = []\n",
    "        points_scene = []\n",
    "        for hull in hulls:\n",
    "            n = len(hull)\n",
    "            for i in range(n):\n",
    "                lines.append([hull[i], hull[(i + 1) % n]])\n",
    "                points_scene.append(hull[i])\n",
    "        scenes.append(Scene([PointsCollection(data, color='skyblue'),\n",
    "                     PointsCollection(points_scene, color='deeppink')],\n",
    "                [LinesCollection(lines, color='deeppink')]))\n",
    "        return hull\n",
    "    d = (last + first) // 2\n",
    "    # division of points\n",
    "    hull1 = recur(points, first, d)\n",
    "    hull2 = recur(points, d + 1, last)\n",
    "    if len(hull1) == 0:\n",
    "        hulls.remove(hull1)\n",
    "        return hull2\n",
    "    if len(hull2) == 0:\n",
    "        hulls.remove(hull2)\n",
    "        return hull1\n",
    "\n",
    "    hull = []\n",
    "    n1 = len(hull1)\n",
    "    n2 = len(hull2)\n",
    "    max_x_ind = find_max_x(hull1)\n",
    "    min_x_ind = find_min_x(hull2)\n",
    "    down1, down2 = points_connect_down(max_x_ind, min_x_ind, hull1, hull2)\n",
    "    up1, up2 = points_connect_up(max_x_ind, min_x_ind, hull1, hull2)\n",
    "    add_scene([(hull1[down1], hull2[down2]), (hull1[up1], hull2[up2])])\n",
    "    hulls.remove(hull1)\n",
    "    hulls.remove(hull2)\n",
    "    hull.append(hull1[down1])\n",
    "    hull.append(hull2[down2])\n",
    "    # joining two convex hulls with tangents\n",
    "    if down2 != up2:\n",
    "        a = down2 + 1\n",
    "        while a % n2 != up2:\n",
    "            hull.append(hull2[a % n2])\n",
    "            a += 1\n",
    "        hull.append(hull2[up2])\n",
    "    if up1 != down1:\n",
    "        hull.append(hull1[up1])\n",
    "        b = up1 + 1\n",
    "        while b % n1 != down1:\n",
    "            hull.append(hull1[b % n1])\n",
    "            b += 1\n",
    "    hulls.append(hull)\n",
    "    add_scene([])\n",
    "    return hull"
   ]
  },
  {
   "cell_type": "code",
   "execution_count": null,
   "metadata": {},
   "outputs": [],
   "source": [
    "def convex_hull(points):\n",
    "    sorted_points = sorted(points, key = lambda k: (k[0], k[1]))\n",
    "    n = len(sorted_points)\n",
    "    return recur(sorted_points, 0, n - 1)"
   ]
  },
  {
   "cell_type": "markdown",
   "metadata": {},
   "source": [
    "##### Loading a set of points from a json file:"
   ]
  },
  {
   "cell_type": "code",
   "execution_count": null,
   "metadata": {},
   "outputs": [],
   "source": [
    "with open('points.json', 'r') as file:\n",
    "    data = js.loads(file.read())\n"
   ]
  },
  {
   "cell_type": "code",
   "execution_count": null,
   "metadata": {},
   "outputs": [],
   "source": [
    "scenes = []\n",
    "hulls = []\n",
    "scenes.append(Scene([PointsCollection(data, color='skyblue')]))\n",
    "hull = convex_hull(data)\n",
    "plot = Plot(scenes=scenes)\n",
    "plot.draw()"
   ]
  },
  {
   "cell_type": "markdown",
   "metadata": {},
   "source": [
    "## 3. Points generators:"
   ]
  },
  {
   "cell_type": "code",
   "execution_count": null,
   "metadata": {},
   "outputs": [],
   "source": [
    "def on_retangle(n_sides, n_diagonals, vertexes):\n",
    "\n",
    "    points = [vertexes[0], vertexes[1], vertexes[2], vertexes[3]]\n",
    "    \n",
    "    for i in range(n_sides):\n",
    "        x1 = random.uniform(vertexes[0][0], vertexes[1][0])\n",
    "        y1 = random.uniform(vertexes[0][1], vertexes[1][1])\n",
    "        points.append((x1, y1))\n",
    "        x2 = random.uniform(vertexes[0][0], vertexes[3][0])\n",
    "        y2 = random.uniform(vertexes[0][1], vertexes[3][1])\n",
    "        points.append((x2, y2))\n",
    "        \n",
    "    for i in range(n_diagonals):\n",
    "        x1 = random.uniform(vertexes[0][0], vertexes[1][0])\n",
    "        y1 = x1 + vertexes[0][1]\n",
    "        points.append((x1, y1))\n",
    "        x2 = random.uniform(vertexes[3][0], vertexes[2][0])\n",
    "        y2 = -x2 + vertexes[3][1]\n",
    "        points.append((x2, y2))\n",
    "        \n",
    "    return points"
   ]
  },
  {
   "cell_type": "code",
   "execution_count": null,
   "metadata": {},
   "outputs": [],
   "source": [
    "def on_circle(n, s, r):\n",
    "    points = []\n",
    "    for i in range(n):\n",
    "        a = random.uniform(0, 2*np.pi)\n",
    "        x = np.cos(a) * (r ** 2) + s[0]\n",
    "        y = np.sin(a) * (r ** 2) + s[1]\n",
    "        points.append((x, y))\n",
    "    return points"
   ]
  },
  {
   "cell_type": "code",
   "execution_count": null,
   "metadata": {},
   "outputs": [],
   "source": [
    "def randoms(n, p_x, p_y):\n",
    "    points = []\n",
    "    for _ in range(n):\n",
    "        x = random.uniform(p_x[0], p_x[1])\n",
    "        y = random.uniform(p_y[0], p_y[1])\n",
    "        points.append((x, y))\n",
    "    return points"
   ]
  },
  {
   "cell_type": "markdown",
   "metadata": {},
   "source": [
    "## 4. For saving points entered with the mouse:"
   ]
  },
  {
   "cell_type": "code",
   "execution_count": null,
   "metadata": {},
   "outputs": [],
   "source": [
    "def save_plot(plot, name):\n",
    "    points = []\n",
    "    for i in range(len(plot.get_added_points())):\n",
    "        for point in plot.get_added_points()[i].points:\n",
    "            points.append(point)\n",
    "\n",
    "    with open(f'{name}.json', 'w') as file:\n",
    "       file.write(js.dumps(points))"
   ]
  },
  {
   "cell_type": "code",
   "execution_count": null,
   "metadata": {},
   "outputs": [],
   "source": [
    "plot = Plot(scenes=[Scene()])\n",
    "plot.draw()"
   ]
  },
  {
   "cell_type": "markdown",
   "metadata": {},
   "source": [
    "## 5. Examples:"
   ]
  },
  {
   "cell_type": "code",
   "execution_count": null,
   "metadata": {},
   "outputs": [],
   "source": [
    "data = randoms(100, [0, 100], [0, 100])\n",
    "scenes = []\n",
    "hull = []\n",
    "points_hull = []\n",
    "scenes.append(Scene([PointsCollection(data, color='skyblue')]))\n",
    "hull = convex_hull(data)\n",
    "plot = Plot(scenes=scenes)\n",
    "plot.draw()"
   ]
  },
  {
   "cell_type": "code",
   "execution_count": null,
   "metadata": {},
   "outputs": [],
   "source": [
    "data = on_circle(100, (0, 0), 1)\n",
    "scenes = []\n",
    "hulls = []\n",
    "points_hull = []\n",
    "scenes.append(Scene([PointsCollection(data, color='skyblue')]))\n",
    "hull = convex_hull(data)\n",
    "plot = Plot(scenes=scenes)\n",
    "plot.draw()"
   ]
  }
 ],
 "metadata": {
  "kernelspec": {
   "display_name": "Python 3",
   "language": "python",
   "name": "python3"
  },
  "language_info": {
   "codemirror_mode": {
    "name": "ipython",
    "version": 3
   },
   "file_extension": ".py",
   "mimetype": "text/x-python",
   "name": "python",
   "nbconvert_exporter": "python",
   "pygments_lexer": "ipython3",
   "version": "3.8.10"
  }
 },
 "nbformat": 4,
 "nbformat_minor": 1
}
