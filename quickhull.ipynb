{
 "cells": [
  {
   "cell_type": "markdown",
   "metadata": {},
   "source": [
    "# Quickhull\n",
    "### method of computing the convex hull of a finite set of points in 2-dimensional space\n"
   ]
  },
  {
   "cell_type": "code",
   "execution_count": null,
   "metadata": {},
   "outputs": [],
   "source": [
    "from ipynb.fs.full.drawing_tool import *\n",
    "%matplotlib notebook\n",
    "Tolerance = 10e-12"
   ]
  },
  {
   "cell_type": "markdown",
   "metadata": {},
   "source": [
    "## 1. Auxiliary functions:"
   ]
  },
  {
   "cell_type": "markdown",
   "metadata": {},
   "source": [
    "Finding the farthest point from the segment with ends x and y:"
   ]
  },
  {
   "cell_type": "code",
   "execution_count": null,
   "metadata": {},
   "outputs": [],
   "source": [
    "def find_distance(x, y, z):   # distance between point (z) and segment (xy)\n",
    "    a = x[1] - y[1]\n",
    "    b = y[0] - x[0]\n",
    "    c = x[0] * y[1] - y[0] * x[1]\n",
    "    return abs(a * z[0] + b * z[1] + c) / np.sqrt(a * a + b * b)"
   ]
  },
  {
   "cell_type": "code",
   "execution_count": null,
   "metadata": {},
   "outputs": [],
   "source": [
    "def find_farthest_point(x, y, points):\n",
    "    the_farthest = None\n",
    "    the_farthest_distance = -float('inf')\n",
    "    \n",
    "    for point in points:\n",
    "        tmp = find_distance(x, y, point)\n",
    "        if the_farthest_distance < tmp:\n",
    "            the_farthest = point\n",
    "            the_farthest_distance = tmp\n",
    "\n",
    "    return the_farthest"
   ]
  },
  {
   "cell_type": "markdown",
   "metadata": {},
   "source": [
    "Function returns 1 when point (c) is to the left of the segment (xy) and 0 otherwise:"
   ]
  },
  {
   "cell_type": "code",
   "execution_count": null,
   "metadata": {},
   "outputs": [],
   "source": [
    "def orient(a, b, c):\n",
    "    det_ = a[0] * b[1] + b[0] * c[1] + c[0] * a[1] - c[0] * b[1] - b[0] * a[1] - a[0] * c[1]\n",
    "    \n",
    "    if det_ > Tolerance:\n",
    "        return 1\n",
    "    return 0"
   ]
  },
  {
   "cell_type": "markdown",
   "metadata": {},
   "source": [
    "Function returns only points that are to the left of the segment (xy):"
   ]
  },
  {
   "cell_type": "code",
   "execution_count": null,
   "metadata": {},
   "outputs": [],
   "source": [
    "def split_points(x, y, points):\n",
    "    \n",
    "    new = []\n",
    "    for point in points:\n",
    "        o = orient(x, y, point)\n",
    "        if o == 1:\n",
    "            new.append(point)\n",
    "            \n",
    "    return new"
   ]
  },
  {
   "cell_type": "markdown",
   "metadata": {},
   "source": [
    "##### Functions needed to visualisation:"
   ]
  },
  {
   "cell_type": "code",
   "execution_count": null,
   "metadata": {},
   "outputs": [],
   "source": [
    "def find_point(a, b, c, d):  # function finds the intersection of two lines\n",
    "    x = (d - b) / (a - c)\n",
    "    y = (a * d - b * c) / (a - c)\n",
    "    return (x, y)"
   ]
  },
  {
   "cell_type": "markdown",
   "metadata": {},
   "source": [
    "Function finds the point of intersection of the line perpendicular to the xy line passing through the point z.\n",
    "\n",
    "For visualization - it is not needed for the algorithm itself:"
   ]
  },
  {
   "cell_type": "code",
   "execution_count": null,
   "metadata": {},
   "outputs": [],
   "source": [
    "def intersection_point_vis(x, y, z):\n",
    "    a = (x[1] - y[1]) / (x[0] - y[0])\n",
    "    b = x[1] - a * x[0]\n",
    "    c = -1 / a\n",
    "    d = z[1] - c * z[0]\n",
    "    point = find_point(a, b, c, d)\n",
    "    return point"
   ]
  },
  {
   "cell_type": "markdown",
   "metadata": {},
   "source": [
    "## 2. Main algorithm:"
   ]
  },
  {
   "cell_type": "code",
   "execution_count": null,
   "metadata": {},
   "outputs": [],
   "source": [
    "def quickhull_help(a, b, points):\n",
    "    def add_scene():   # visualization\n",
    "        nonlocal convex_hull, points, farthest_point, a, b\n",
    "        global scenes, data, hull, points_hull\n",
    "        point = intersection_point_vis(a, b, farthest_point)\n",
    "        n = len(points_hull)\n",
    "        points_hull2 = []\n",
    "        for i in range(n):\n",
    "            if a == points_hull[i]:\n",
    "                points_hull2.append(a)\n",
    "                points_hull2.append(farthest_point)\n",
    "            else:\n",
    "                points_hull2.append(points_hull[i])\n",
    "        points_hull = points_hull2.copy()\n",
    "        n = len(points_hull)\n",
    "        lines = [(points_hull[i], points_hull[(i + 1) % n]) for i in range(n)]\n",
    "        lines2 = [(point, farthest_point), (a, b)]\n",
    "        scenes.append(Scene([PointsCollection(data, color='skyblue'),\n",
    "                             PointsCollection(points_hull.copy(), color='deeppink')],\n",
    "                            [LinesCollection(lines2, color='pink'),\n",
    "                             LinesCollection(lines, color='deeppink')]))\n",
    "        \n",
    "    convex_hull = []\n",
    "    \n",
    "    if len(points) == 0 or a is None or b is None:\n",
    "        return convex_hull\n",
    "    \n",
    "    farthest_point = find_farthest_point(a, b, points)\n",
    "    points.remove(farthest_point)\n",
    "    \n",
    "    add_scene()\n",
    "    \n",
    "    new1 = split_points(a, farthest_point, points)\n",
    "    new2 = split_points(farthest_point, b, points)\n",
    "    \n",
    "    convex_hull += quickhull_help(a, farthest_point, new1)\n",
    "    convex_hull += [farthest_point]\n",
    "    convex_hull += quickhull_help(farthest_point, b, new2)\n",
    "\n",
    "    return convex_hull"
   ]
  },
  {
   "cell_type": "code",
   "execution_count": null,
   "metadata": {},
   "outputs": [],
   "source": [
    "def quickhull(points):\n",
    "    global hull\n",
    "    \n",
    "    if len(points) <= 2:\n",
    "        return points\n",
    "    \n",
    "    sorted_points = sorted(points, key = lambda p: (p[0], p[1]))\n",
    "    \n",
    "    a = sorted_points[0]\n",
    "    b = sorted_points[-1]\n",
    "    sorted_points.pop(0)\n",
    "    sorted_points.pop()\n",
    "    points_hull.append(a)\n",
    "    points_hull.append(b)\n",
    "    \n",
    "    above = split_points(a, b, sorted_points)\n",
    "    below = split_points(b, a, sorted_points)\n",
    "    \n",
    "    scenes.append(Scene([PointsCollection(points_hull, color='deeppink'),\n",
    "                        PointsCollection(data, color='skyblue')],\n",
    "                    [LinesCollection([(a, b)], color='deeppink')]))\n",
    "    \n",
    "    hull += [a]\n",
    "    hull += quickhull_help(a, b, above)\n",
    "    hull += [b]\n",
    "    hull += quickhull_help(b, a, below)\n",
    "    \n",
    "    n = len(hull)\n",
    "    lines = [(hull[i], hull[(i + 1) % n]) for i in range(n)]\n",
    "    scenes.append(Scene([PointsCollection(data, color='skyblue'),\n",
    "                         PointsCollection(hull, color='deeppink')],\n",
    "                    [LinesCollection(lines, color='deeppink')]))\n",
    "    return hull"
   ]
  },
  {
   "cell_type": "markdown",
   "metadata": {},
   "source": [
    "##### Loading a set of points from a json file:"
   ]
  },
  {
   "cell_type": "code",
   "execution_count": null,
   "metadata": {},
   "outputs": [],
   "source": [
    "with open('points.json', 'r') as file:\n",
    "    data = js.loads(file.read())"
   ]
  },
  {
   "cell_type": "code",
   "execution_count": null,
   "metadata": {
    "scrolled": false
   },
   "outputs": [],
   "source": [
    "scenes = []\n",
    "hull = []\n",
    "points_hull = []\n",
    "scenes.append(Scene([PointsCollection(data, color='skyblue')]))\n",
    "hull = quickhull(data)\n",
    "plot = Plot(scenes=scenes)\n",
    "plot.draw()"
   ]
  },
  {
   "cell_type": "markdown",
   "metadata": {},
   "source": [
    "## 3. Points generators:"
   ]
  },
  {
   "cell_type": "markdown",
   "metadata": {},
   "source": [
    "Returns set of points with vertexes of the rectangle and randomly placed points on the sides and diagonals of this rectangle:"
   ]
  },
  {
   "cell_type": "code",
   "execution_count": null,
   "metadata": {},
   "outputs": [],
   "source": [
    "def on_retangle(n_sides, n_diagonals, vertexes):\n",
    "\n",
    "    points = [vertexes[0], vertexes[1], vertexes[2], vertexes[3]]\n",
    "    \n",
    "    for i in range(n_sides):\n",
    "        x1 = random.uniform(vertexes[0][0], vertexes[1][0])\n",
    "        y1 = random.uniform(vertexes[0][1], vertexes[1][1])\n",
    "        points.append((x1, y1))\n",
    "        x2 = random.uniform(vertexes[0][0], vertexes[3][0])\n",
    "        y2 = random.uniform(vertexes[0][1], vertexes[3][1])\n",
    "        points.append((x2, y2))\n",
    "        \n",
    "    for i in range(n_diagonals):\n",
    "        x1 = random.uniform(vertexes[0][0], vertexes[1][0])\n",
    "        y1 = x1 + vertexes[0][1]\n",
    "        points.append((x1, y1))\n",
    "        x2 = random.uniform(vertexes[3][0], vertexes[2][0])\n",
    "        y2 = -x2 + vertexes[3][1]\n",
    "        points.append((x2, y2))\n",
    "        \n",
    "    return points"
   ]
  },
  {
   "cell_type": "markdown",
   "metadata": {},
   "source": [
    "Returns set of points randomly placed on the circle:"
   ]
  },
  {
   "cell_type": "code",
   "execution_count": null,
   "metadata": {},
   "outputs": [],
   "source": [
    "def on_circle(n, s, r):\n",
    "    \n",
    "    points = []\n",
    "    for i in range(n):\n",
    "        a = random.uniform(0, 2*np.pi)\n",
    "        x = np.cos(a) * (r ** 2) + s[0]\n",
    "        y = np.sin(a) * (r ** 2) + s[1]\n",
    "        points.append((x, y))\n",
    "        \n",
    "    return points"
   ]
  },
  {
   "cell_type": "markdown",
   "metadata": {},
   "source": [
    "Returns set of points randomly placed inside the rectangle:"
   ]
  },
  {
   "cell_type": "code",
   "execution_count": 1,
   "metadata": {},
   "outputs": [],
   "source": [
    "def randoms(n, p_x, p_y):\n",
    "    \n",
    "    points = []\n",
    "    for _ in range(n):\n",
    "        x = random.uniform(p_x[0], p_x[1])\n",
    "        y = random.uniform(p_y[0], p_y[1])\n",
    "        points.append((x, y))\n",
    "\n",
    "    return points"
   ]
  },
  {
   "cell_type": "markdown",
   "metadata": {},
   "source": [
    "## 4. For saving points entered with the mouse:"
   ]
  },
  {
   "cell_type": "code",
   "execution_count": null,
   "metadata": {},
   "outputs": [],
   "source": [
    "def save_plot(plot, name):\n",
    "    \n",
    "    points = []\n",
    "    for i in range(len(plot.get_added_points())):\n",
    "        for point in plot.get_added_points()[i].points:\n",
    "            points.append(point)\n",
    "\n",
    "    with open(f'{name}.json', 'w') as file:\n",
    "       file.write(js.dumps(points))"
   ]
  },
  {
   "cell_type": "code",
   "execution_count": null,
   "metadata": {},
   "outputs": [],
   "source": [
    "plot = Plot(scenes=[Scene()])\n",
    "plot.draw()"
   ]
  },
  {
   "cell_type": "code",
   "execution_count": null,
   "metadata": {},
   "outputs": [],
   "source": [
    "save_plot(plot, \"ccc\")"
   ]
  },
  {
   "cell_type": "markdown",
   "metadata": {},
   "source": [
    "## 5. Examples:"
   ]
  },
  {
   "cell_type": "code",
   "execution_count": null,
   "metadata": {},
   "outputs": [],
   "source": [
    "data = on_retangle(50, 50, [(0, 0), (1, 0), (1, 1), (0, 1)])\n",
    "scenes = []\n",
    "hull = []\n",
    "points_hull = []\n",
    "scenes.append(Scene([PointsCollection(data, color='skyblue')]))\n",
    "hull = quickhull(data)\n",
    "plot = Plot(scenes=scenes)\n",
    "plot.draw()"
   ]
  },
  {
   "cell_type": "code",
   "execution_count": null,
   "metadata": {},
   "outputs": [],
   "source": [
    "data = on_circle(100, (0, 0), 1)\n",
    "scenes = []\n",
    "hull = []\n",
    "points_hull = []\n",
    "scenes.append(Scene([PointsCollection(data, color='skyblue')]))\n",
    "hull = quickhull(data)\n",
    "plot = Plot(scenes=scenes)\n",
    "plot.draw()"
   ]
  },
  {
   "cell_type": "code",
   "execution_count": null,
   "metadata": {},
   "outputs": [],
   "source": [
    "data = randoms(100, [0, 100], [0, 100])\n",
    "scenes = []\n",
    "hull = []\n",
    "points_hull = []\n",
    "scenes.append(Scene([PointsCollection(data, color='skyblue')]))\n",
    "hull = quickhull(data)\n",
    "plot = Plot(scenes=scenes)\n",
    "plot.draw()"
   ]
  },
  {
   "cell_type": "code",
   "execution_count": null,
   "metadata": {},
   "outputs": [],
   "source": []
  }
 ],
 "metadata": {
  "kernelspec": {
   "display_name": "Python 3",
   "language": "python",
   "name": "python3"
  },
  "language_info": {
   "codemirror_mode": {
    "name": "ipython",
    "version": 3
   },
   "file_extension": ".py",
   "mimetype": "text/x-python",
   "name": "python",
   "nbconvert_exporter": "python",
   "pygments_lexer": "ipython3",
   "version": "3.8.10"
  }
 },
 "nbformat": 4,
 "nbformat_minor": 1
}
