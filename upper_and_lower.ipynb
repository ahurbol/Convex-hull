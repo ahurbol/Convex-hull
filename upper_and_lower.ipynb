{
 "cells": [
  {
   "cell_type": "markdown",
   "metadata": {},
   "source": [
    "# Upper and lower convex hull\n",
    "### method of computing the convex hull of a finite set of points in 2-dimensional space\n"
   ]
  },
  {
   "cell_type": "code",
   "execution_count": 1,
   "metadata": {},
   "outputs": [],
   "source": [
    "from ipynb.fs.full.drawing_tool import *\n",
    "%matplotlib notebook\n",
    "Tolerance = 10e-12"
   ]
  },
  {
   "cell_type": "markdown",
   "metadata": {},
   "source": [
    "## 1. Auxiliary function:"
   ]
  },
  {
   "cell_type": "code",
   "execution_count": null,
   "metadata": {},
   "outputs": [],
   "source": [
    "def orient(a, b, c):\n",
    "    \n",
    "    det_ = a[0] * b[1] + b[0] * c[1] + c[0] * a[1] - c[0] * b[1] - b[0] * a[1] - a[0] * c[1]\n",
    "    \n",
    "    if det_ > Tolerance:\n",
    "        return 1\n",
    "    elif det_ < -Tolerance:\n",
    "        return -1\n",
    "    return 0"
   ]
  },
  {
   "cell_type": "markdown",
   "metadata": {},
   "source": [
    "## 2. Main algorithm:"
   ]
  },
  {
   "cell_type": "code",
   "execution_count": null,
   "metadata": {},
   "outputs": [],
   "source": [
    "def make_convex_hull(data):\n",
    "    def add_scene(flag):\n",
    "#         wizualizacja\n",
    "        nonlocal down_hull, up_hull, data, scenes\n",
    "        down_lines = []\n",
    "        up_lines = []\n",
    "        check_line = []\n",
    "        check_point = []\n",
    "        if len(down_hull) >= 2:\n",
    "            size_down = len(down_hull) - 1\n",
    "            if flag == 'down':\n",
    "                size_down -= 1\n",
    "                check_line.append([down_hull[-2], down_hull[-1]])\n",
    "                check_point.append(down_hull[-1])\n",
    "            down_lines = [(down_hull[i], down_hull[i + 1]) for i in range(size_down)]\n",
    "        if len(up_hull) >= 2:\n",
    "            size_up = len(up_hull) - 1\n",
    "            if flag == 'up':\n",
    "                size_up -= 1\n",
    "                check_line.append([up_hull[-2], up_hull[-1]])\n",
    "                check_point.append(up_hull[-1])\n",
    "            up_lines = [(up_hull[i], up_hull[i + 1]) for i in range(size_up)]\n",
    "        scenes.append(Scene([PointsCollection(check_point, color='deeppink'),\n",
    "                             PointsCollection(data, color='skyblue'),\n",
    "                             PointsCollection(down_hull.copy(), color='limegreen'),\n",
    "                             PointsCollection(up_hull.copy(), color='pink')],\n",
    "                            [LinesCollection(down_lines, color='limegreen'),\n",
    "                             LinesCollection(up_lines, color='pink'),\n",
    "                            LinesCollection(check_line, color='deeppink')]))\n",
    "    scenes = []\n",
    "    points = sorted(data, key = lambda p: (p[0], p[1]))\n",
    "    size = len(points)\n",
    "#     pierwsze punkty otoczki:\n",
    "    xmin_ymin = points[0]\n",
    "    xmin_ymax = points[0]\n",
    "    i = 1\n",
    "    down_hull = []\n",
    "    up_hull = []\n",
    "    while xmin_ymax[0] == points[i][0]:\n",
    "        xmin_ymax = points[i]\n",
    "        i += 1\n",
    "    first_ind = i - 1\n",
    "    down_hull.append(xmin_ymin)\n",
    "    scenes.append(Scene([PointsCollection(data, color='skyblue'),\n",
    "                     PointsCollection(down_hull.copy(), color='limegreen')]))\n",
    "#     znajdowanie dolnej otoczki\n",
    "    for i in range(1, size):\n",
    "        down_hull.append(points[i])\n",
    "        while len(down_hull) > 2 and orient(down_hull[-3], down_hull[-2], down_hull[-1]) != 1:\n",
    "            add_scene('down')\n",
    "#             usuwamy przedostatni dopoki 3 ostatn\n",
    "            down_hull.pop(-2)\n",
    "        add_scene('none')\n",
    "    \n",
    "    up_hull.append(xmin_ymax)\n",
    "    for i in range(first_ind + 1, size):\n",
    "        up_hull.append(points[i])\n",
    "        while len(up_hull) > 2 and orient(up_hull[-3], up_hull[-2], up_hull[-1]) != -1:\n",
    "            add_scene('up')\n",
    "            up_hull.pop(-2)\n",
    "        add_scene('none')\n",
    "    \n",
    "    if up_hull[-1] == down_hull[-1]:\n",
    "        up_hull.pop()\n",
    "    for i in range(len(up_hull) - 1, 0, -1):\n",
    "        down_hull.append(up_hull[i])\n",
    "    if up_hull[0] != down_hull[0]:\n",
    "        down_hull.append(up_hull[0])\n",
    "    \n",
    "    lines = []\n",
    "    if len(down_hull) >= 2:\n",
    "        lines = [(down_hull[i], down_hull[(i + 1) % len(down_hull)]) for i in range(len(down_hull))]\n",
    "    scenes.append(Scene([PointsCollection(data, color='skyblue'),\n",
    "                         PointsCollection(down_hull.copy(), color='royalblue')],\n",
    "                        [LinesCollection(lines, color='royalblue')]))\n",
    "    return scenes"
   ]
  },
  {
   "cell_type": "markdown",
   "metadata": {},
   "source": [
    "##### Loading a set of points from a json file:"
   ]
  },
  {
   "cell_type": "code",
   "execution_count": null,
   "metadata": {},
   "outputs": [],
   "source": [
    "with open('points.json', 'r') as file:\n",
    "    data = js.loads(file.read())"
   ]
  },
  {
   "cell_type": "code",
   "execution_count": null,
   "metadata": {},
   "outputs": [],
   "source": [
    "scenes = make_convex_hull(data)\n",
    "plot = Plot(scenes = scenes)\n",
    "plot.draw()"
   ]
  },
  {
   "cell_type": "markdown",
   "metadata": {},
   "source": [
    "## 3. Points generators:"
   ]
  },
  {
   "cell_type": "markdown",
   "metadata": {},
   "source": [
    "Returns set of points with vertexes of the rectangle and randomly placed points on the sides and diagonals of this rectangle:"
   ]
  },
  {
   "cell_type": "code",
   "execution_count": null,
   "metadata": {},
   "outputs": [],
   "source": [
    "def on_retangle(n_sides, n_diagonals, vertexes):\n",
    "\n",
    "    points = [vertexes[0], vertexes[1], vertexes[2], vertexes[3]]\n",
    "    \n",
    "    for i in range(n_sides):\n",
    "        x1 = random.uniform(vertexes[0][0], vertexes[1][0])\n",
    "        y1 = random.uniform(vertexes[0][1], vertexes[1][1])\n",
    "        points.append((x1, y1))\n",
    "        x2 = random.uniform(vertexes[0][0], vertexes[3][0])\n",
    "        y2 = random.uniform(vertexes[0][1], vertexes[3][1])\n",
    "        points.append((x2, y2))\n",
    "        \n",
    "    for i in range(n_diagonals):\n",
    "        x1 = random.uniform(vertexes[0][0], vertexes[1][0])\n",
    "        y1 = x1 + vertexes[0][1]\n",
    "        points.append((x1, y1))\n",
    "        x2 = random.uniform(vertexes[3][0], vertexes[2][0])\n",
    "        y2 = -x2 + vertexes[3][1]\n",
    "        points.append((x2, y2))\n",
    "        \n",
    "    return points"
   ]
  },
  {
   "cell_type": "markdown",
   "metadata": {},
   "source": [
    "Returns set of points randomly placed on the circle:"
   ]
  },
  {
   "cell_type": "code",
   "execution_count": null,
   "metadata": {},
   "outputs": [],
   "source": [
    "def on_circle(n, s, r):\n",
    "\n",
    "    points = []\n",
    "    for i in range(n):\n",
    "        a = random.uniform(0, 2*np.pi)\n",
    "        x = np.cos(a) * (r ** 2) + s[0]\n",
    "        y = np.sin(a) * (r ** 2) + s[1]\n",
    "        points.append((x, y))\n",
    "        \n",
    "    return points"
   ]
  },
  {
   "cell_type": "markdown",
   "metadata": {},
   "source": [
    "Returns set of points randomly placed inside the rectangle:"
   ]
  },
  {
   "cell_type": "code",
   "execution_count": null,
   "metadata": {},
   "outputs": [],
   "source": [
    "def randoms(n, p_x, p_y):\n",
    "\n",
    "    points = []\n",
    "    for _ in range(n):\n",
    "        x = random.uniform(p_x[0], p_x[1])\n",
    "        y = random.uniform(p_y[0], p_y[1])\n",
    "        points.append((x, y))\n",
    "        \n",
    "    return points"
   ]
  },
  {
   "cell_type": "markdown",
   "metadata": {},
   "source": [
    "## 4. For saving points entered with the mouse:"
   ]
  },
  {
   "cell_type": "code",
   "execution_count": null,
   "metadata": {},
   "outputs": [],
   "source": [
    "def save_plot(plot, name):\n",
    "    points = []\n",
    "    for i in range(len(plot.get_added_points())):\n",
    "        for point in plot.get_added_points()[i].points:\n",
    "            points.append(point)\n",
    "\n",
    "    with open(f'{name}.json', 'w') as file:\n",
    "       file.write(js.dumps(points))"
   ]
  },
  {
   "cell_type": "code",
   "execution_count": null,
   "metadata": {},
   "outputs": [],
   "source": [
    "plot = Plot(scenes=[Scene()])\n",
    "plot.draw()"
   ]
  },
  {
   "cell_type": "code",
   "execution_count": null,
   "metadata": {},
   "outputs": [],
   "source": [
    "save_plot(plot, \"ccc\")"
   ]
  },
  {
   "cell_type": "markdown",
   "metadata": {},
   "source": [
    "## 5. Examples:"
   ]
  },
  {
   "cell_type": "code",
   "execution_count": null,
   "metadata": {},
   "outputs": [],
   "source": [
    "data = randoms(100, [0, 100], [0, 100])\n",
    "scenes = make_convex_hull(data)\n",
    "plot = Plot(scenes=scenes)\n",
    "plot.draw()"
   ]
  },
  {
   "cell_type": "code",
   "execution_count": null,
   "metadata": {},
   "outputs": [],
   "source": [
    "data = on_retangle(50, 50, [(0, 0), (1, 0), (1, 1), (0, 1)])\n",
    "scenes = make_convex_hull(data)\n",
    "plot = Plot(scenes=scenes)\n",
    "plot.draw()"
   ]
  },
  {
   "cell_type": "code",
   "execution_count": null,
   "metadata": {},
   "outputs": [],
   "source": [
    "data = on_circle(100, (0, 0), 1)\n",
    "scenes = make_(data)\n",
    "plot = Plot(scenes=scenes)\n",
    "plot.draw()"
   ]
  }
 ],
 "metadata": {
  "kernelspec": {
   "display_name": "Python 3",
   "language": "python",
   "name": "python3"
  },
  "language_info": {
   "codemirror_mode": {
    "name": "ipython",
    "version": 3
   },
   "file_extension": ".py",
   "mimetype": "text/x-python",
   "name": "python",
   "nbconvert_exporter": "python",
   "pygments_lexer": "ipython3",
   "version": "3.8.10"
  }
 },
 "nbformat": 4,
 "nbformat_minor": 1
}
